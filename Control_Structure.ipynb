{
  "nbformat": 4,
  "nbformat_minor": 0,
  "metadata": {
    "colab": {
      "name": "Control Structure.ipynb",
      "provenance": [],
      "authorship_tag": "ABX9TyOY7uqZBndRgt6DTQe5PMGq",
      "include_colab_link": true
    },
    "kernelspec": {
      "name": "python3",
      "display_name": "Python 3"
    },
    "language_info": {
      "name": "python"
    }
  },
  "cells": [
    {
      "cell_type": "markdown",
      "metadata": {
        "id": "view-in-github",
        "colab_type": "text"
      },
      "source": [
        "<a href=\"https://colab.research.google.com/github/wellaboriol/CPEN21A-CpE-1-2/blob/main/Control_Structure.ipynb\" target=\"_parent\"><img src=\"https://colab.research.google.com/assets/colab-badge.svg\" alt=\"Open In Colab\"/></a>"
      ]
    },
    {
      "cell_type": "markdown",
      "metadata": {
        "id": "32Klf8xMH9na"
      },
      "source": [
        "###If Statement\n"
      ]
    },
    {
      "cell_type": "code",
      "metadata": {
        "colab": {
          "base_uri": "https://localhost:8080/"
        },
        "id": "H1MKHwUbGhRo",
        "outputId": "26bb36b5-e65c-483c-a13f-3ca2559bb045"
      },
      "source": [
        "a = 12\n",
        "b = 100\n",
        "\n",
        "if b>a:\n",
        "  print(\"b is greater than a\")"
      ],
      "execution_count": 1,
      "outputs": [
        {
          "output_type": "stream",
          "name": "stdout",
          "text": [
            "b is greater than a\n"
          ]
        }
      ]
    },
    {
      "cell_type": "markdown",
      "metadata": {
        "id": "x0QG0hpPITna"
      },
      "source": [
        "###Elif Statement\n"
      ]
    },
    {
      "cell_type": "code",
      "metadata": {
        "colab": {
          "base_uri": "https://localhost:8080/"
        },
        "id": "EuCV3PV1IZGK",
        "outputId": "c4832d49-5408-4c94-9afb-18a116b7b415"
      },
      "source": [
        "a = 120\n",
        "b = 100\n",
        "\n",
        "if b>a:\n",
        "  print(\"b is greater than a\")\n",
        "elif a>b:\n",
        "  print(\"a is greater than b\")"
      ],
      "execution_count": 2,
      "outputs": [
        {
          "output_type": "stream",
          "name": "stdout",
          "text": [
            "a is greater than b\n"
          ]
        }
      ]
    },
    {
      "cell_type": "markdown",
      "metadata": {
        "id": "chMIH-8PIv9Z"
      },
      "source": [
        "###Else Statement"
      ]
    },
    {
      "cell_type": "code",
      "metadata": {
        "colab": {
          "base_uri": "https://localhost:8080/"
        },
        "id": "sIEDhGrtI1Cq",
        "outputId": "45f1f7f8-d222-4699-bbca-44825bb1c37d"
      },
      "source": [
        "a = 100\n",
        "b = 100\n",
        "\n",
        "if b>a:\n",
        "  print(\"b is greater than a\")\n",
        "elif a>b:\n",
        "  print(\"a is greater than b\")\n",
        "else:\n",
        "  print(\"a is equal to b\")"
      ],
      "execution_count": 3,
      "outputs": [
        {
          "output_type": "stream",
          "name": "stdout",
          "text": [
            "a is equal to b\n"
          ]
        }
      ]
    },
    {
      "cell_type": "markdown",
      "metadata": {
        "id": "lQaGuTOtJtRp"
      },
      "source": [
        "###Short Hand If Statement"
      ]
    },
    {
      "cell_type": "code",
      "metadata": {
        "colab": {
          "base_uri": "https://localhost:8080/"
        },
        "id": "Hr8XtuwBJ0na",
        "outputId": "8f0980e5-7c44-4024-8b1e-8f45aee82a48"
      },
      "source": [
        "a = 45\n",
        "b = 30\n",
        "\n",
        "if a>b: print(\"a is greater than b\")"
      ],
      "execution_count": 4,
      "outputs": [
        {
          "output_type": "stream",
          "name": "stdout",
          "text": [
            "a is greater than b\n"
          ]
        }
      ]
    },
    {
      "cell_type": "markdown",
      "metadata": {
        "id": "p2JS2l6aKD8Y"
      },
      "source": [
        "###Short Hand Else Statement"
      ]
    },
    {
      "cell_type": "code",
      "metadata": {
        "colab": {
          "base_uri": "https://localhost:8080/"
        },
        "id": "sXZdudKKKNod",
        "outputId": "b888f1e3-8fc6-4bc9-c95e-c0af5b24cb67"
      },
      "source": [
        "a = 30\n",
        "b = 45\n",
        "\n",
        "print(\"a is greater than b\") if a>b else print(\"b is greater than a\")"
      ],
      "execution_count": 6,
      "outputs": [
        {
          "output_type": "stream",
          "name": "stdout",
          "text": [
            "b is greater than a\n"
          ]
        }
      ]
    },
    {
      "cell_type": "markdown",
      "metadata": {
        "id": "tUXcSRmmK2wz"
      },
      "source": [
        "###And Logic Condition"
      ]
    },
    {
      "cell_type": "code",
      "metadata": {
        "colab": {
          "base_uri": "https://localhost:8080/"
        },
        "id": "YIM_a1NrLGlf",
        "outputId": "c1486e2e-5242-49c1-ce69-f084e56ea324"
      },
      "source": [
        "x = 17\n",
        "\n",
        "if x>5 and x>6:\n",
        "  print(\"Both conditions are True\")"
      ],
      "execution_count": 9,
      "outputs": [
        {
          "output_type": "stream",
          "name": "stdout",
          "text": [
            "Both conditions are True\n"
          ]
        }
      ]
    },
    {
      "cell_type": "markdown",
      "metadata": {
        "id": "sb82nDJxLc0H"
      },
      "source": [
        "###Or logic condition"
      ]
    },
    {
      "cell_type": "code",
      "metadata": {
        "colab": {
          "base_uri": "https://localhost:8080/"
        },
        "id": "VFDPI15ALgqI",
        "outputId": "18032f78-8dfc-41ac-c8df-2e69180c6df8"
      },
      "source": [
        "x=19\n",
        "\n",
        "if x>18 or x<15:\n",
        "  print(\"True\")\n",
        "else:\n",
        "  print(\"False\")"
      ],
      "execution_count": 16,
      "outputs": [
        {
          "output_type": "stream",
          "name": "stdout",
          "text": [
            "True\n"
          ]
        }
      ]
    },
    {
      "cell_type": "code",
      "metadata": {
        "colab": {
          "base_uri": "https://localhost:8080/"
        },
        "id": "A8sL8lkUL_4d",
        "outputId": "39c06202-5250-4b2e-ec1f-d546dd890bdc"
      },
      "source": [
        "if x>10:\n",
        "  print(\"Above 10\")\n",
        "  if x>20:\n",
        "   print(\"Above 20\")\n",
        "  else:\n",
        "   print(\"Below 20\")\n",
        "else:\n",
        "  print(\"less than 10\")"
      ],
      "execution_count": 19,
      "outputs": [
        {
          "output_type": "stream",
          "name": "stdout",
          "text": [
            "Above 10\n",
            "Below 20\n"
          ]
        }
      ]
    },
    {
      "cell_type": "markdown",
      "metadata": {
        "id": "07ypAkACM7kk"
      },
      "source": [
        "###Example 1"
      ]
    },
    {
      "cell_type": "code",
      "metadata": {
        "colab": {
          "base_uri": "https://localhost:8080/"
        },
        "id": "cotC2LgvM-T1",
        "outputId": "f109d402-6e2b-439e-c1cf-dcc3914c908f"
      },
      "source": [
        "age = int(input(\"Enter your age: \"))\n",
        "\n",
        "if age>=18:\n",
        "  print(\"You are qualified to vote\")\n",
        "else:\n",
        "  print(\"You are not qualified to vote\")"
      ],
      "execution_count": 15,
      "outputs": [
        {
          "output_type": "stream",
          "name": "stdout",
          "text": [
            "Enter your age: 18\n",
            "You are qualified to vote\n"
          ]
        }
      ]
    },
    {
      "cell_type": "markdown",
      "metadata": {
        "id": "VB_FUUvFNpPf"
      },
      "source": [
        "###Example 2"
      ]
    },
    {
      "cell_type": "code",
      "metadata": {
        "colab": {
          "base_uri": "https://localhost:8080/"
        },
        "id": "BXyAt608NrII",
        "outputId": "fe9e0f6a-a189-4a89-b392-2ab32b39ce46"
      },
      "source": [
        "number = float(input(\"Enter the number:\"))\n",
        "\n",
        "if number == 0:\n",
        "  print(\"Zero\")\n",
        "elif number>0:\n",
        "  print(\"Positive\")\n",
        "else:\n",
        "  print(\"Negative\")\n"
      ],
      "execution_count": 30,
      "outputs": [
        {
          "output_type": "stream",
          "name": "stdout",
          "text": [
            "Enter the number:21.8\n",
            "Positive\n"
          ]
        }
      ]
    },
    {
      "cell_type": "markdown",
      "metadata": {
        "id": "nWD3zXPlOm8N"
      },
      "source": [
        "###Example 3"
      ]
    },
    {
      "cell_type": "code",
      "metadata": {
        "colab": {
          "base_uri": "https://localhost:8080/"
        },
        "id": "Ewo8jkOHOsQb",
        "outputId": "72fc9b97-057c-4d37-aa4b-72de3dbb02ee"
      },
      "source": [
        "grade = float(input(\"Enter the grade:\"))\n",
        "if grade >= 75:\n",
        "  print(\"Passed\")\n",
        "elif 74 <= grade <75:\n",
        "  print(\"Remedial\")\n",
        "else:\n",
        "  print(\"Failed\")"
      ],
      "execution_count": 111,
      "outputs": [
        {
          "output_type": "stream",
          "name": "stdout",
          "text": [
            "Enter the grade:75\n",
            "Passed\n"
          ]
        }
      ]
    }
  ]
}