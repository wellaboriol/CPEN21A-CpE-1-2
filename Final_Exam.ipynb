{
  "nbformat": 4,
  "nbformat_minor": 0,
  "metadata": {
    "colab": {
      "name": "Final Exam.ipynb",
      "provenance": [],
      "authorship_tag": "ABX9TyMak/FXni5uYE0A766hqnkU",
      "include_colab_link": true
    },
    "kernelspec": {
      "name": "python3",
      "display_name": "Python 3"
    },
    "language_info": {
      "name": "python"
    }
  },
  "cells": [
    {
      "cell_type": "markdown",
      "metadata": {
        "id": "view-in-github",
        "colab_type": "text"
      },
      "source": [
        "<a href=\"https://colab.research.google.com/github/wellaboriol/CPEN21A-CpE-1-2/blob/main/Final_Exam.ipynb\" target=\"_parent\"><img src=\"https://colab.research.google.com/assets/colab-badge.svg\" alt=\"Open In Colab\"/></a>"
      ]
    },
    {
      "cell_type": "markdown",
      "source": [
        "#Final Exam\n"
      ],
      "metadata": {
        "id": "RCq9SRjXw-5g"
      }
    },
    {
      "cell_type": "code",
      "source": [
        "#PROBLEM STATEMENT 1.\n",
        "num = [-5,-4,-3,-2,-1,0,1,2,3,4]\n",
        "sum = 0\n",
        "for x in num:\n",
        "  sum = sum + x\n",
        "\n",
        "print(sum)"
      ],
      "metadata": {
        "colab": {
          "base_uri": "https://localhost:8080/"
        },
        "id": "SuoSxzhlxC6G",
        "outputId": "1f68bbf6-a628-40dd-8fee-295fd4d52f9e"
      },
      "execution_count": 1,
      "outputs": [
        {
          "output_type": "stream",
          "name": "stdout",
          "text": [
            "-5\n"
          ]
        }
      ]
    },
    {
      "cell_type": "code",
      "source": [
        "#PROBLEM STATEMENT 2.\n",
        "num = int(input(\"Enter any number: \"))\n",
        "\n",
        "last_digit = num % 10\n",
        "\n",
        "while num > 10:\n",
        "   num = num // 10\n",
        "\n",
        "last_digit +=num\n",
        "print(\"Sum of the first and last number:\", last_digit)"
      ],
      "metadata": {
        "colab": {
          "base_uri": "https://localhost:8080/"
        },
        "id": "YwifQRtrxmVS",
        "outputId": "a36abed1-83c0-4c8a-d47b-ade4758d36cd"
      },
      "execution_count": 5,
      "outputs": [
        {
          "output_type": "stream",
          "name": "stdout",
          "text": [
            "Enter any number: 24568\n",
            "Sum of the first and last number: 10\n"
          ]
        }
      ]
    },
    {
      "cell_type": "code",
      "source": [
        "#PROBLEM STATEMENT 3.\n",
        "grade = float(input(\"Enter the grade: \"))\n",
        "\n",
        "if grade >= 90:\n",
        "  char = \"A\"\n",
        "else:\n",
        "    if 80 <= grade <=90:\n",
        "      char = \"B\"\n",
        "    else: \n",
        "      if 70 <= grade <80:\n",
        "        char = \"C\"\n",
        "      else:\n",
        "        if 60 <= grade <70:\n",
        "          char = \"D\"\n",
        "        else:\n",
        "          char = \"F\"\n",
        "\n",
        "print(\"Character grade: \"+ char)"
      ],
      "metadata": {
        "colab": {
          "base_uri": "https://localhost:8080/"
        },
        "id": "e5waoJL50qJP",
        "outputId": "da7665f0-8859-4b36-ed78-e2e065eaf3b2"
      },
      "execution_count": 3,
      "outputs": [
        {
          "output_type": "stream",
          "name": "stdout",
          "text": [
            "Enter the grade: 98\n",
            "Character grade: A\n"
          ]
        }
      ]
    }
  ]
}