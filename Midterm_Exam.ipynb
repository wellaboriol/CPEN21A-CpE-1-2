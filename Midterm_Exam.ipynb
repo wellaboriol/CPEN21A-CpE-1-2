{
  "nbformat": 4,
  "nbformat_minor": 0,
  "metadata": {
    "colab": {
      "name": "Midterm Exam.ipynb",
      "provenance": [],
      "toc_visible": true,
      "authorship_tag": "ABX9TyNsbEqef0s2lpSdWFDRz4I2",
      "include_colab_link": true
    },
    "kernelspec": {
      "name": "python3",
      "display_name": "Python 3"
    },
    "language_info": {
      "name": "python"
    }
  },
  "cells": [
    {
      "cell_type": "markdown",
      "metadata": {
        "id": "view-in-github",
        "colab_type": "text"
      },
      "source": [
        "<a href=\"https://colab.research.google.com/github/wellaboriol/CPEN21A-CpE-1-2/blob/main/Midterm_Exam.ipynb\" target=\"_parent\"><img src=\"https://colab.research.google.com/assets/colab-badge.svg\" alt=\"Open In Colab\"/></a>"
      ]
    },
    {
      "cell_type": "markdown",
      "metadata": {
        "id": "B_VA5ZH2Caqb"
      },
      "source": [
        "##Midterm Exam "
      ]
    },
    {
      "cell_type": "code",
      "metadata": {
        "colab": {
          "base_uri": "https://localhost:8080/"
        },
        "id": "L7jxkDJgCgTK",
        "outputId": "dcc8363f-48ed-4b8f-c8b3-8ccf58d425f6"
      },
      "source": [
        "Name = \"Wella Mae Lagordo Boriol\"\n",
        "S_Number = \"202105205\"\n",
        "Age = \"19\"\n",
        "Birthday = \"May 08, 2002\"\n",
        "Address = \"Blk94 Lot24 Ph4 Mabuhay City Paliparan 3 Dasmarinas City Cavite\"\n",
        "crs = \"Bachelor of Science in Computer Engineering\"\n",
        "gwa = \"95\"\n",
        "\n",
        "print(\"Full name: \"+ Name)\n",
        "print(\"Student Number: \"+ S_Number)\n",
        "print(\"Age: \"+ Age)\n",
        "print(\"Birthday: \"+ Birthday)\n",
        "print(\"Address: \"+ Address)\n",
        "print(\"Course: \"+ crs)\n",
        "print(\"Last Sem GWA: \"+ gwa)"
      ],
      "execution_count": 76,
      "outputs": [
        {
          "output_type": "stream",
          "name": "stdout",
          "text": [
            "Full name: Wella Mae Lagordo Boriol\n",
            "Student Number: 202105205\n",
            "Age: 19\n",
            "Birthday: May 08, 2002\n",
            "Address: Blk94 Lot24 Ph4 Mabuhay City Paliparan 3 Dasmarinas City Cavite\n",
            "Course: Bachelor of Science in Computer Engineering\n",
            "Last Sem GWA: 95\n"
          ]
        }
      ]
    },
    {
      "cell_type": "code",
      "metadata": {
        "colab": {
          "base_uri": "https://localhost:8080/"
        },
        "id": "txg2z12YDgmS",
        "outputId": "a45198ae-b0e6-412a-b8ff-4b459a763596"
      },
      "source": [
        "n = 4\n",
        "answ = \"Y\"\n",
        "\n",
        "print(bool(2<n) and (n<6))\n",
        "\n",
        "\n"
      ],
      "execution_count": 43,
      "outputs": [
        {
          "output_type": "stream",
          "name": "stdout",
          "text": [
            "True\n"
          ]
        }
      ]
    },
    {
      "cell_type": "code",
      "metadata": {
        "colab": {
          "base_uri": "https://localhost:8080/"
        },
        "id": "bxRogxbJF_me",
        "outputId": "9f7705fe-29c2-4b14-ada2-69c4aa7733a9"
      },
      "source": [
        "n = 4\n",
        "answ = \"Y\"\n",
        "\n",
        "print(bool(2<n) or (n==6))"
      ],
      "execution_count": 44,
      "outputs": [
        {
          "output_type": "stream",
          "name": "stdout",
          "text": [
            "True\n"
          ]
        }
      ]
    },
    {
      "cell_type": "code",
      "metadata": {
        "colab": {
          "base_uri": "https://localhost:8080/"
        },
        "id": "SbyKNxtZFnVc",
        "outputId": "f131a421-18ec-4520-b067-0f0a687cf74f"
      },
      "source": [
        "n = 4\n",
        "answ = \"Y\"\n",
        "\n",
        "print(not(2<n) or (n==6))\n",
        "print(not(n<6))\n"
      ],
      "execution_count": 25,
      "outputs": [
        {
          "output_type": "stream",
          "name": "stdout",
          "text": [
            "False\n",
            "False\n"
          ]
        }
      ]
    },
    {
      "cell_type": "code",
      "metadata": {
        "colab": {
          "base_uri": "https://localhost:8080/"
        },
        "id": "YwasRqZQHmp_",
        "outputId": "9bb38a31-577b-46c8-af0a-7d41f77bb33e"
      },
      "source": [
        "n = 4\n",
        "answ = \"Y\"\n",
        "\n",
        "print(bool(answ == \"Y\") or (answ == \"y\"))"
      ],
      "execution_count": 45,
      "outputs": [
        {
          "output_type": "stream",
          "name": "stdout",
          "text": [
            "True\n"
          ]
        }
      ]
    },
    {
      "cell_type": "code",
      "metadata": {
        "colab": {
          "base_uri": "https://localhost:8080/"
        },
        "id": "IRi14VgXIFf3",
        "outputId": "482f2d85-cd4c-4a14-adf2-5badc025192a"
      },
      "source": [
        "print(bool(answ == \"Y\") and (answ == \"y\"))"
      ],
      "execution_count": 46,
      "outputs": [
        {
          "output_type": "stream",
          "name": "stdout",
          "text": [
            "False\n"
          ]
        }
      ]
    },
    {
      "cell_type": "code",
      "metadata": {
        "colab": {
          "base_uri": "https://localhost:8080/"
        },
        "id": "yW4SxpVaIO9b",
        "outputId": "0843af69-ffb6-4498-d70a-b53a060e439a"
      },
      "source": [
        "print(not(answ == \"y\"))"
      ],
      "execution_count": 31,
      "outputs": [
        {
          "output_type": "stream",
          "name": "stdout",
          "text": [
            "True\n"
          ]
        }
      ]
    },
    {
      "cell_type": "code",
      "metadata": {
        "colab": {
          "base_uri": "https://localhost:8080/"
        },
        "id": "wChQOfM2IaLs",
        "outputId": "69de29c0-5b39-4dba-f1f5-f10008c565e4"
      },
      "source": [
        "n = 4\n",
        "answ = \"Y\"\n",
        "\n",
        "(2<n) and (n==5+1) or answ == \"No\""
      ],
      "execution_count": 50,
      "outputs": [
        {
          "output_type": "execute_result",
          "data": {
            "text/plain": [
              "False"
            ]
          },
          "metadata": {},
          "execution_count": 50
        }
      ]
    },
    {
      "cell_type": "code",
      "metadata": {
        "colab": {
          "base_uri": "https://localhost:8080/"
        },
        "id": "-ocEQk42KkpQ",
        "outputId": "f2ac612f-7b44-40e4-bc3e-841efd9f66ed"
      },
      "source": [
        "n = 4\n",
        "answ = \"Y\"\n",
        "\n",
        "(n==2 and n==7) or answ == \"Y\""
      ],
      "execution_count": 59,
      "outputs": [
        {
          "output_type": "execute_result",
          "data": {
            "text/plain": [
              "True"
            ]
          },
          "metadata": {},
          "execution_count": 59
        }
      ]
    },
    {
      "cell_type": "code",
      "metadata": {
        "colab": {
          "base_uri": "https://localhost:8080/"
        },
        "id": "S_gP3DWdLPc4",
        "outputId": "d2ec6b36-9072-44ef-f57c-f6c4b5f7cc78"
      },
      "source": [
        "(n==2) and (n==7) or (answ==\"Y\")"
      ],
      "execution_count": 64,
      "outputs": [
        {
          "output_type": "execute_result",
          "data": {
            "text/plain": [
              "True"
            ]
          },
          "metadata": {},
          "execution_count": 64
        }
      ]
    },
    {
      "cell_type": "code",
      "metadata": {
        "colab": {
          "base_uri": "https://localhost:8080/"
        },
        "id": "qKcJB4KQL_HO",
        "outputId": "a50ffb02-4c7e-40eb-c808-30748a2470d2"
      },
      "source": [
        "x = 2\n",
        "y = -3\n",
        "w = 7\n",
        "z = -10\t\n",
        "\n",
        "a = x/y\n",
        "b = w/y/x\n",
        "c = z/y%x\n",
        "d = x% - y*w\n",
        "e = x%y\n",
        "f = z%w-y/x*5+5\n",
        "g = 9-x%(2+y)\n",
        "h = z//w\n",
        "i = (2+y)**2\n",
        "j = w/x*2\n",
        "\n",
        "print(a)\n",
        "print(b)\n",
        "print(c)\n",
        "print(d)\n",
        "print(e)\n",
        "print(f)\n",
        "print(g)\n",
        "print(h)\n",
        "print(i)\n",
        "print(j)\n"
      ],
      "execution_count": 66,
      "outputs": [
        {
          "output_type": "stream",
          "name": "stdout",
          "text": [
            "-0.6666666666666666\n",
            "-1.1666666666666667\n",
            "1.3333333333333335\n",
            "14\n",
            "-1\n",
            "16.5\n",
            "9\n",
            "-2\n",
            "1\n",
            "7.0\n"
          ]
        }
      ]
    }
  ]
}